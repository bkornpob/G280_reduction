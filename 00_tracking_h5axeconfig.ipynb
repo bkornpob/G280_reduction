{
 "cells": [
  {
   "cell_type": "code",
   "execution_count": 1,
   "metadata": {},
   "outputs": [],
   "source": [
    "import h5py\n",
    "import numpy as np\n",
    "import h5axeconfig\n",
    "import polyclip"
   ]
  },
  {
   "cell_type": "code",
   "execution_count": 2,
   "metadata": {},
   "outputs": [],
   "source": [
    "beamfile='/Users/kbhirombhakdi/_work/h5axeconfig-master/h5axeconfig/data/hst_wfc3_ir_beams.h5'\n",
    "grism = 'G141'\n",
    "conf = h5axeconfig.Camera(beamfile,grism)\n",
    "for detname,detconf in conf:\n",
    "    for beamname,beamconf in detconf:\n",
    "        if beamname == 'A':\n",
    "            break"
   ]
  },
  {
   "cell_type": "code",
   "execution_count": 3,
   "metadata": {},
   "outputs": [],
   "source": [
    "lamb = np.array([9950., 10000.])\n",
    "xd = np.array([487.,487.,488.,488.])\n",
    "yd = np.array([546.,547.,547.,546.])\n",
    "naxis = [1014,1014]\n",
    "nx = 1014"
   ]
  },
  {
   "cell_type": "markdown",
   "metadata": {},
   "source": [
    "# Reference"
   ]
  },
  {
   "cell_type": "code",
   "execution_count": 4,
   "metadata": {},
   "outputs": [
    {
     "data": {
      "text/plain": [
       "array([[20.3772369 , 20.37560006, 20.37367402, 20.37531062],\n",
       "       [21.44717203, 21.44547394, 21.4435543 , 21.44525215]])"
      ]
     },
     "execution_count": 4,
     "metadata": {},
     "output_type": "execute_result"
    }
   ],
   "source": [
    "sref = beamconf.dispersion.arclength(lamb,xd,yd)\n",
    "sref"
   ]
  },
  {
   "cell_type": "code",
   "execution_count": 5,
   "metadata": {},
   "outputs": [
    {
     "name": "stdout",
     "output_type": "stream",
     "text": [
      "[[507.37634923 507.3747116  508.37278543 508.37442282]\n",
      " [508.44623774 508.44453883 509.44261905 509.44431773]] [[547.13208747 548.13030472 548.13037835 547.13216043]\n",
      " [547.14207417 548.14029567 548.14037053 547.14214834]]\n"
     ]
    }
   ],
   "source": [
    "xgref,ygref = beamconf.trace(sref,xd,yd)\n",
    "print(xgref,ygref)"
   ]
  },
  {
   "cell_type": "code",
   "execution_count": 6,
   "metadata": {},
   "outputs": [
    {
     "name": "stdout",
     "output_type": "stream",
     "text": [
      "0 9950.0 507 547 0.5418747\n",
      "0 9950.0 507 548 0.08148474\n",
      "0 9950.0 508 547 0.32432148\n",
      "0 9950.0 508 548 0.048612647\n",
      "1 10000.0 508 547 0.47568497\n",
      "1 10000.0 508 548 0.07794053\n",
      "1 10000.0 509 547 0.3805318\n",
      "1 10000.0 509 548 0.06215349\n"
     ]
    }
   ],
   "source": [
    "xyg,lam,val = beamconf.specDrizzle(xd,yd,lamb)\n",
    "if len(xyg)!=0:\n",
    "    yl,xl=np.divmod(xyg,nx)\n",
    "for i in np.arange(len(xyg)):\n",
    "    print(lam[i],lamb[lam[i]],xl[i],yl[i],val[i])"
   ]
  },
  {
   "cell_type": "markdown",
   "metadata": {},
   "source": [
    "# Breaking down: dispersion.arclength"
   ]
  },
  {
   "cell_type": "markdown",
   "metadata": {},
   "source": [
    "This is to compute Eq. 4 from the LINEAR paper:\n",
    "\n",
    "$$\n",
    "\\lambda(s) = \\sum_{i=0}^n \\beta_i(x_0,y_0)s^i\n",
    "$$\n",
    "\n",
    "These $\\beta_i$ can be found as the dispersion coefficients in the .h5 files. Let's say we are dealing with G141. In the file, we will see two orders ($i=$0 and $i=$1 i.e., first-order polynomial). For each order, there are six orders ($j=$0 to $j=$5).\n",
    "\n",
    "We compress six coefficients by following Eq. 7 from the LINEAR paper:\n",
    "\n",
    "$$\n",
    "\\beta_i(x_0,y_0) = \\sum_{j=0}^{n'} \\sum_{k=0}^{n'} \\beta_{i,j,k} x_0^j y_0^k \\, ; \\, j+k \\leq n'\n",
    "$$\n",
    "\n",
    "Simply say, this is how you map the six coefficients for the case of G141, dispersion order $i=$0:\n",
    "\n",
    "| j | k | Cjk |\n",
    "|---|---|-----|\n",
    "| 0 | 0 | 8951.386   |\n",
    "| 1 | 0 | 0.080   |\n",
    "| 1 | 1 | -0.009   |\n",
    "| 2 | 0 | 2.185e-5   |\n",
    "| 2 | 1 | -1.104e-5 |\n",
    "| 2 | 2 | 3.352e-5 |\n",
    "\n",
    "Then, the arclength $s$ will be the solution of the dispersion function:\n",
    "\n",
    "$s(\\lambda,x_0,y_0)$ = numpy.roots($\\sum_{i=0}^n \\beta_i(x_0,y_0)s^i - \\lambda(s)$) ."
   ]
  },
  {
   "cell_type": "code",
   "execution_count": 7,
   "metadata": {},
   "outputs": [
    {
     "name": "stdout",
     "output_type": "stream",
     "text": [
      "<KeysViewHDF5 ['0', '1']>\n"
     ]
    }
   ],
   "source": [
    "h5 = h5py.File(beamfile,'r')\n",
    "hf = h5['G141']['IR']['A']['dispersion']\n",
    "print(hf.keys())"
   ]
  },
  {
   "cell_type": "code",
   "execution_count": 8,
   "metadata": {},
   "outputs": [],
   "source": [
    "# Poly2d\n",
    "def poly2d(v,xd,yd):\n",
    "    coefs = {}\n",
    "    if isinstance(v,np.ndarray):\n",
    "        print('yes')\n",
    "        print('len(v) = ',len(v))\n",
    "        count = int((np.sqrt(1+8*len(v)) - 1)/2)\n",
    "        print('count = ',count)\n",
    "        ii = 0\n",
    "        for j in range(count):\n",
    "            print('j = ',j)\n",
    "            for k in range(j+1):\n",
    "                print('\\tk = ',k)\n",
    "                coefs[(j-k,k)] = v[ii]\n",
    "                print('\\t\\tv = ',v[ii])\n",
    "                ii+=1\n",
    "\n",
    "\n",
    "    else:\n",
    "        print('no')\n",
    "\n",
    "    print('coefs = ',coefs,'\\n')\n",
    "    print('npar = len(coefs) = ',len(coefs),'\\n')\n",
    "    print('order = ',len(coefs)-1,'\\n')\n",
    "    \n",
    "    p = 0\n",
    "    for (i,j),v in coefs.items():\n",
    "        p += v * xd**i * yd**j\n",
    "    print('p = ',p)\n",
    "    \n",
    "    print('\\n###################\\n')\n",
    "    \n",
    "    \n",
    "    return p"
   ]
  },
  {
   "cell_type": "code",
   "execution_count": 9,
   "metadata": {
    "scrolled": true
   },
   "outputs": [
    {
     "name": "stdout",
     "output_type": "stream",
     "text": [
      "order =  0\n",
      "[ 8.95138621e+03  8.04403282e-02 -9.27969877e-03  2.18566417e-05\n",
      " -1.10480089e-05  3.35271254e-05]\n",
      "yes\n",
      "len(v) =  6\n",
      "count =  3\n",
      "j =  0\n",
      "\tk =  0\n",
      "\t\tv =  8951.38620572\n",
      "j =  1\n",
      "\tk =  0\n",
      "\t\tv =  0.08044032819916265\n",
      "\tk =  1\n",
      "\t\tv =  -0.009279698766495334\n",
      "j =  2\n",
      "\tk =  0\n",
      "\t\tv =  2.1856641668116504e-05\n",
      "\tk =  1\n",
      "\t\tv =  -1.1048008881387708e-05\n",
      "\tk =  2\n",
      "\t\tv =  3.352712538187608e-05\n",
      "coefs =  {(0, 0): 8951.38620572, (1, 0): 0.08044032819916265, (0, 1): -0.009279698766495334, (2, 0): 2.1856641668116504e-05, (1, 1): -1.1048008881387708e-05, (0, 2): 3.352712538187608e-05} \n",
      "\n",
      "npar = len(coefs) =  6 \n",
      "\n",
      "order =  5 \n",
      "\n",
      "p =  [8997.73493273 8997.7569178  8997.85262509 8997.83065107]\n",
      "\n",
      "###################\n",
      "\n",
      "order =  1\n",
      "[ 4.49722789e+01  4.92789151e-04  3.57824166e-03 -9.17523335e-07\n",
      "  2.23550604e-07 -9.25869000e-07]\n",
      "yes\n",
      "len(v) =  6\n",
      "count =  3\n",
      "j =  0\n",
      "\tk =  0\n",
      "\t\tv =  44.97227893276267\n",
      "j =  1\n",
      "\tk =  0\n",
      "\t\tv =  0.0004927891511929662\n",
      "\tk =  1\n",
      "\t\tv =  0.0035782416625653765\n",
      "j =  2\n",
      "\tk =  0\n",
      "\t\tv =  -9.175233345083485e-07\n",
      "\tk =  1\n",
      "\t\tv =  2.2355060371418054e-07\n",
      "\tk =  2\n",
      "\t\tv =  -9.258690000316504e-07\n",
      "coefs =  {(0, 0): 44.97227893276267, (1, 0): 0.0004927891511929662, (0, 1): 0.0035782416625653765, (2, 0): -9.175233345083485e-07, (1, 1): 2.2355060371418054e-07, (0, 2): -9.258690000316504e-07} \n",
      "\n",
      "npar = len(coefs) =  6 \n",
      "\n",
      "order =  5 \n",
      "\n",
      "p =  [46.7318053  46.73448043 46.73420092 46.73152556]\n",
      "\n",
      "###################\n",
      "\n",
      "[[array([8997.73493273, 8997.7569178 , 8997.85262509, 8997.83065107])], [array([46.7318053 , 46.73448043, 46.73420092, 46.73152556])]]\n"
     ]
    }
   ],
   "source": [
    "# Poly1d\n",
    "coefs = []\n",
    "for order in hf:\n",
    "    print('order = ',order)\n",
    "    x = hf[order][:]\n",
    "    print(x)\n",
    "    \n",
    "    x = poly2d(x,xd,yd)\n",
    "    \n",
    "    coefs.append([x])\n",
    "print(coefs)"
   ]
  },
  {
   "cell_type": "code",
   "execution_count": 10,
   "metadata": {},
   "outputs": [
    {
     "data": {
      "text/plain": [
       "array([[20.3772369 , 20.37560006, 20.37367402, 20.37531062],\n",
       "       [21.44717203, 21.44547394, 21.4435543 , 21.44525215]])"
      ]
     },
     "execution_count": 10,
     "metadata": {},
     "output_type": "execute_result"
    }
   ],
   "source": [
    "# Dispersion\n",
    "dldp = coefs\n",
    "b = dldp[0]\n",
    "m = dldp[1]\n",
    "s = (lamb[:,None] - b)/m # because IR dispersion is a linear\n",
    "s"
   ]
  },
  {
   "cell_type": "code",
   "execution_count": 11,
   "metadata": {},
   "outputs": [
    {
     "data": {
      "text/plain": [
       "array([[ True,  True,  True,  True],\n",
       "       [ True,  True,  True,  True]])"
      ]
     },
     "execution_count": 11,
     "metadata": {},
     "output_type": "execute_result"
    }
   ],
   "source": [
    "s == sref"
   ]
  },
  {
   "cell_type": "markdown",
   "metadata": {},
   "source": [
    "### Verified!!! s = self.dispersion.arclength(lamb,xd,yd)"
   ]
  },
  {
   "cell_type": "markdown",
   "metadata": {},
   "source": [
    "# Breaking down: trace"
   ]
  },
  {
   "cell_type": "markdown",
   "metadata": {},
   "source": [
    "This computes the spectral trace (i.e., corners of a polygon given a source's segmentation corners $(x_0,y_0)$s and wavelength) following Eq. 2 and 3:\n",
    "\n",
    "$$\n",
    "x = x_0 + x_{off}(x_0,y_0) + \\tilde{x} \\\\\n",
    "y = y_0 + y_{off}(x_0,y_0) + \\tilde{y}\n",
    "$$\n",
    "\n",
    "The $x_{off}, y_{off}$ are approximately constant -- zeroth order polynomial -- and can be found in the .h5 file. Therefore, we only need to compute $\\tilde{x}, \\tilde{y}$. This needs the arclength solutions $s$ from the previous step, and the trace coefficients in the .h5 file.\n",
    "\n",
    "For the trace coefficients $\\alpha_i$, we follow Eq. 1 and 5 in the LINEAR paper:\n",
    "\n",
    "$$\n",
    "s(\\tilde{x}) = \\int_0^{\\tilde{x}} \\sqrt{1 + \\frac{d\\tilde{y}}{dx'}} \\, dx' \\, .\n",
    "$$\n",
    "\n",
    "where\n",
    "\n",
    "$$\n",
    "\\tilde{y}(\\tilde{x}) = \\sum_{i=0}^n \\alpha_i(x_0,y_0) \\tilde{x}^i\n",
    "$$\n",
    "\n",
    "and\n",
    "\n",
    "$$\n",
    "\\alpha_i(x_0,y_0) = \\sum_{j=0}^{n'} \\sum_{k=0}^{n'} \\alpha_{i,j,k} x_0^j y_0^k \\, ; \\, j+k \\leq n'\n",
    "$$\n",
    "\n",
    "Similar to what we did with the dispersion, for G141 the trace is a first-order polynomial ($\\alpha_0$ and $\\alpha_1$). For each $\\alpha_i$, it has six coefficients which can be compressed in a similar fashion as what we did with the dispersion. For G141/A/trace/0, we can arrange the six coefficients as:\n",
    "\n",
    "| j | k | Cjk |\n",
    "|---|---|-----|\n",
    "| 0 | 0 | 2.081   |\n",
    "| 1 | 0 | -1.975e-4   |\n",
    "| 1 | 1 | -0.002   |\n",
    "| 2 | 0 | 3.143e-8   |\n",
    "| 2 | 1 | 4.321e-7 |\n",
    "| 2 | 2 | 1.210e-7 |\n",
    "\n",
    "Note that since G141's trace is a first-order polynomial, there applies its analytical solution from the integration."
   ]
  },
  {
   "cell_type": "code",
   "execution_count": 12,
   "metadata": {},
   "outputs": [],
   "source": [
    "def trace(s,coef):\n",
    "    b = coef[0][0]\n",
    "    m = coef[1][0]\n",
    "    x = s/np.sqrt(1. + m*m)\n",
    "    y = m*x + b\n",
    "    return x,y"
   ]
  },
  {
   "cell_type": "code",
   "execution_count": 13,
   "metadata": {
    "scrolled": true
   },
   "outputs": [
    {
     "name": "stdout",
     "output_type": "stream",
     "text": [
      "<KeysViewHDF5 ['0', '1']>\n",
      "order =  0\n",
      "[ 2.08196481e+00 -1.97521306e-04 -2.20206657e-03  3.14351408e-08\n",
      "  4.32127869e-07  1.21043600e-07]\n",
      "yes\n",
      "len(v) =  6\n",
      "count =  3\n",
      "j =  0\n",
      "\tk =  0\n",
      "\t\tv =  2.08196481352\n",
      "j =  1\n",
      "\tk =  0\n",
      "\t\tv =  -0.00019752130624389416\n",
      "\tk =  1\n",
      "\t\tv =  -0.002202066565067532\n",
      "j =  2\n",
      "\tk =  0\n",
      "\t\tv =  3.143514082596283e-08\n",
      "\tk =  1\n",
      "\t\tv =  4.3212786880932414e-07\n",
      "\tk =  2\n",
      "\t\tv =  1.210435999122636e-07\n",
      "coefs =  {(0, 0): 2.08196481352, (1, 0): -0.00019752130624389416, (0, 1): -0.002202066565067532, (2, 0): 3.143514082596283e-08, (1, 1): 4.3212786880932414e-07, (0, 2): 1.210435999122636e-07} \n",
      "\n",
      "npar = len(coefs) =  6 \n",
      "\n",
      "order =  5 \n",
      "\n",
      "p =  [0.94188773 0.94002841 0.94009791 0.9419568 ]\n",
      "\n",
      "###################\n",
      "\n",
      "order =  1\n",
      "[ 1.02052817e-02 -6.06056924e-06 -3.24856004e-06  4.23638663e-10\n",
      "  1.23095685e-08  1.61230739e-09]\n",
      "yes\n",
      "len(v) =  6\n",
      "count =  3\n",
      "j =  0\n",
      "\tk =  0\n",
      "\t\tv =  0.010205281672977665\n",
      "j =  1\n",
      "\tk =  0\n",
      "\t\tv =  -6.06056923866002e-06\n",
      "\tk =  1\n",
      "\t\tv =  -3.2485600412356953e-06\n",
      "j =  2\n",
      "\tk =  0\n",
      "\t\tv =  4.2363866304617406e-10\n",
      "\tk =  1\n",
      "\t\tv =  1.230956851333159e-08\n",
      "\tk =  2\n",
      "\t\tv =  1.6123073931033502e-09\n",
      "coefs =  {(0, 0): 0.010205281672977665, (1, 0): -6.06056923866002e-06, (0, 1): -3.2485600412356953e-06, (2, 0): 4.2363866304617406e-10, (1, 1): 1.230956851333159e-08, (0, 2): 1.6123073931033502e-09} \n",
      "\n",
      "npar = len(coefs) =  6 \n",
      "\n",
      "order =  5 \n",
      "\n",
      "p =  [0.00933434 0.00933885 0.00933993 0.00933541]\n",
      "\n",
      "###################\n",
      "\n",
      "[[array([0.94188773, 0.94002841, 0.94009791, 0.9419568 ])], [array([0.00933434, 0.00933885, 0.00933993, 0.00933541])]]\n"
     ]
    }
   ],
   "source": [
    "h5 = h5py.File(beamfile,'r')\n",
    "hf = h5['G141']['IR']['A']['trace']\n",
    "print(hf.keys())\n",
    "\n",
    "dydx = []\n",
    "for order in hf:\n",
    "    print('order = ',order)\n",
    "    x = hf[order][:]\n",
    "    print(x)\n",
    "    \n",
    "    x = poly2d(x,xd,yd)\n",
    "    \n",
    "    dydx.append([x])\n",
    "print(dydx)\n",
    "\n",
    "coefs = dydx # from __call__"
   ]
  },
  {
   "cell_type": "code",
   "execution_count": 14,
   "metadata": {},
   "outputs": [],
   "source": [
    "xoff = 0.\n",
    "yoff = 0."
   ]
  },
  {
   "cell_type": "code",
   "execution_count": 15,
   "metadata": {},
   "outputs": [
    {
     "name": "stdout",
     "output_type": "stream",
     "text": [
      "[[ True  True  True  True]\n",
      " [ True  True  True  True]]\n",
      "[[ True  True  True  True]\n",
      " [ True  True  True  True]]\n"
     ]
    }
   ],
   "source": [
    "xhat,yhat = trace(s,coefs)\n",
    "xg = xhat + xd + xoff\n",
    "yg = yhat + yd + yoff\n",
    "print(xg == xgref)\n",
    "print(yg == ygref)"
   ]
  },
  {
   "cell_type": "markdown",
   "metadata": {},
   "source": [
    "### Verified!!! xg,yg = self.trace(s,xd,yd)"
   ]
  },
  {
   "cell_type": "markdown",
   "metadata": {},
   "source": [
    "# Calculating effective areas"
   ]
  },
  {
   "cell_type": "markdown",
   "metadata": {},
   "source": [
    "This computes an effective area in each pixel bin given the segmentation corners. We do not go into details how this is implemented. See documentation for the polyclip package (by Russell) for more information."
   ]
  },
  {
   "cell_type": "code",
   "execution_count": 16,
   "metadata": {},
   "outputs": [
    {
     "name": "stdout",
     "output_type": "stream",
     "text": [
      "[[ True  True  True  True]\n",
      " [ True  True  True  True]] [[ True  True  True  True]\n",
      " [ True  True  True  True]]\n"
     ]
    }
   ],
   "source": [
    "xg = np.clip(xg,0,naxis[0])\n",
    "yg = np.clip(yg,0,naxis[1])\n",
    "print(xg==xgref,yg==ygref)"
   ]
  },
  {
   "cell_type": "code",
   "execution_count": 17,
   "metadata": {},
   "outputs": [
    {
     "name": "stdout",
     "output_type": "stream",
     "text": [
      "[ True  True  True  True  True  True  True  True] [ True  True  True  True  True  True  True  True] [ True  True  True  True  True  True  True  True]\n"
     ]
    }
   ],
   "source": [
    "x,y,area,indices = beamconf.polyclip(xg,yg)\n",
    "print(x==xl,y==yl,area==val)"
   ]
  },
  {
   "cell_type": "markdown",
   "metadata": {},
   "source": [
    "### Verified!!!"
   ]
  },
  {
   "cell_type": "code",
   "execution_count": null,
   "metadata": {},
   "outputs": [],
   "source": []
  }
 ],
 "metadata": {
  "kernelspec": {
   "display_name": "Python 3",
   "language": "python",
   "name": "python3"
  },
  "language_info": {
   "codemirror_mode": {
    "name": "ipython",
    "version": 3
   },
   "file_extension": ".py",
   "mimetype": "text/x-python",
   "name": "python",
   "nbconvert_exporter": "python",
   "pygments_lexer": "ipython3",
   "version": "3.6.9"
  }
 },
 "nbformat": 4,
 "nbformat_minor": 2
}
