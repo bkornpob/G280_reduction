{
 "cells": [
  {
   "cell_type": "markdown",
   "metadata": {},
   "source": [
    "data = simulated 3x3 pixels of count rates (unit: e/s)\n",
    "\n",
    "xi,yi = x,y pixel index\n",
    "\n",
    "li = wavelength index\n",
    "\n",
    "wi = actually wavelength given li (unit: A)\n",
    "\n",
    "vi = value given li,xi,yi (unit: unknown???)\n",
    "\n",
    "li,xi,yi,vi are calculated by using h5axeconfig:\n",
    "    \n",
    "    xyg,li,vi = beamconf.specDrizzle(xd,yd,wi)   \n",
    "    yi,xi = np.divmod(xyg,nx=3)\n",
    "\n",
    "si = assumed sensitivity (unit: e/s per erg/s/cm**2/A)"
   ]
  },
  {
   "cell_type": "code",
   "execution_count": 1,
   "metadata": {},
   "outputs": [],
   "source": [
    "import numpy as np\n",
    "np.random.seed(1234)\n",
    "data = np.random.rand(3,3) # e/s"
   ]
  },
  {
   "cell_type": "code",
   "execution_count": 2,
   "metadata": {},
   "outputs": [
    {
     "name": "stdout",
     "output_type": "stream",
     "text": [
      "li, wi, xi, yi, vi (unit?), data (e/s)\n",
      "0 4000 0 0 0.8759326347420947 0.1915194503788923\n",
      "0 4000 0 1 0.35781726995786667 0.6221087710398319\n",
      "0 4000 0 2 0.5009951255234587 0.4377277390071145\n",
      "1 5000 1 0 0.6834629351721363 0.7853585837137692\n",
      "1 5000 1 1 0.7127020269829002 0.7799758081188035\n",
      "1 5000 1 2 0.37025075479039493 0.2725926052826416\n",
      "2 6000 2 0 0.5611961860656249 0.2764642551430967\n",
      "2 6000 2 1 0.5030831653078097 0.8018721775350193\n",
      "2 6000 2 2 0.013768449590682241 0.9581393536837052\n"
     ]
    }
   ],
   "source": [
    "xi = np.arange(3)\n",
    "yi = np.arange(3)\n",
    "li = np.array([0,0,0,1,1,1,2,2,2]) # wavelength index\n",
    "wi = np.array([4000,5000,6000]) # map from wavelength index to actual wavelength\n",
    "si = np.array([0.4,0.6,0.2]) # map from actual wavelength to sensitivity (e/s per erg/s/cm**2/A)\n",
    "vi = [] # values\n",
    "for i in xi:\n",
    "    for j in yi:\n",
    "        vi.append(np.random.rand(1))\n",
    "vi = np.array(vi).flatten()\n",
    "\n",
    "print('li, wi, xi, yi, vi (unit?), data (e/s)')\n",
    "for i in np.arange(len(vi)):\n",
    "    print(li[i],wi[li[i]],xi[np.int(i/3)],yi[np.mod(i,3)],vi[i],data[np.int(i/3), np.mod(i,3)])"
   ]
  },
  {
   "cell_type": "code",
   "execution_count": 3,
   "metadata": {},
   "outputs": [
    {
     "name": "stdout",
     "output_type": "stream",
     "text": [
      "li, wi, data (e/s), vi (unit?), output = data * vi (e/s * unit?)\n",
      "0 4000 0.8759326347420947 0.1915194503788923 0.167758136774741\n",
      "0 4000 0.35781726995786667 0.6221087710398319 0.2226012620703162\n",
      "0 4000 0.5009951255234587 0.4377277390071145 0.2192994635489691\n",
      "sum_out (e/s * unit?) = 0.610, sum_v (unit?) = 1.735, ave_out (e/s) = 0.351\n",
      "######################\n",
      "li, wi, data (e/s), vi (unit?), output = data * vi (e/s * unit?)\n",
      "1 5000 0.6834629351721363 0.7853585837137692 0.5367634827876446\n",
      "1 5000 0.7127020269829002 0.7799758081188035 0.5558903394438969\n",
      "1 5000 0.37025075479039493 0.2725926052826416 0.10092761785617825\n",
      "sum_out (e/s * unit?) = 1.194, sum_v (unit?) = 1.766, ave_out (e/s) = 0.676\n",
      "######################\n",
      "li, wi, data (e/s), vi (unit?), output = data * vi (e/s * unit?)\n",
      "2 6000 0.5611961860656249 0.2764642551430967 0.1551506855697797\n",
      "2 6000 0.5030831653078097 0.8018721775350193 0.40340839324658345\n",
      "2 6000 0.013768449590682241 0.9581393536837052 0.013192093392042957\n",
      "sum_out (e/s * unit?) = 0.572, sum_v (unit?) = 1.078, ave_out (e/s) = 0.530\n",
      "######################\n",
      "ave_out[wavelength(A)] = value(e/s)\n",
      "{4000: 0.3514400397593343, 5000: 0.6757081182178998, 6000: 0.5303579040716738}\n"
     ]
    }
   ],
   "source": [
    "ave_out = {}\n",
    "for i in np.arange(3):\n",
    "    j = np.argwhere(li==i).flatten()\n",
    "    sum_out = 0.\n",
    "    sum_v = 0.\n",
    "    print('li, wi, data (e/s), vi (unit?), output = data * vi (e/s * unit?)')\n",
    "    for k in j:\n",
    "        x = data[xi[np.int(k/3)],yi[np.mod(k,3)]]\n",
    "        v = vi[k]\n",
    "        y = x*v\n",
    "        print(li[k],wi[li[k]],v,x,y)\n",
    "        \n",
    "        sum_out += y\n",
    "        sum_v += v\n",
    "        \n",
    "    z = sum_out / sum_v\n",
    "    print('sum_out (e/s * unit?) = {0:.3f}, sum_v (unit?) = {1:.3f}, ave_out (e/s) = {2:.3f}'.format(sum_out,sum_v,z))\n",
    "    print('######################')\n",
    "    \n",
    "    ave_out[wi[li[k]]] = z\n",
    "\n",
    "print('ave_out[wavelength(A)] = value(e/s)')\n",
    "print(ave_out) # dict[wavelength(A)] = ave_out(e/s)"
   ]
  },
  {
   "cell_type": "code",
   "execution_count": 4,
   "metadata": {},
   "outputs": [
    {
     "name": "stdout",
     "output_type": "stream",
     "text": [
      "wavelength(A), ave_out(e/s), sensitivity(e/s per erg/s/cm**2/A, flam(erg/s/cm**2/A) = ave_out * sensitivity)\n",
      "4000 0.3514400397593343 0.4 0.8786000993983357\n",
      "5000 0.6757081182178998 0.6 1.126180197029833\n",
      "6000 0.5303579040716738 0.2 2.651789520358369\n"
     ]
    }
   ],
   "source": [
    "print('wavelength(A), ave_out(e/s), sensitivity(e/s per erg/s/cm**2/A, flam(erg/s/cm**2/A) = ave_out * sensitivity)')\n",
    "for i in np.arange(3):\n",
    "    x = ave_out[wi[i]]\n",
    "    y = si[i]\n",
    "    z = x/y\n",
    "    print(wi[i],x,y,z)"
   ]
  },
  {
   "cell_type": "code",
   "execution_count": null,
   "metadata": {},
   "outputs": [],
   "source": []
  }
 ],
 "metadata": {
  "kernelspec": {
   "display_name": "Python 3",
   "language": "python",
   "name": "python3"
  },
  "language_info": {
   "codemirror_mode": {
    "name": "ipython",
    "version": 3
   },
   "file_extension": ".py",
   "mimetype": "text/x-python",
   "name": "python",
   "nbconvert_exporter": "python",
   "pygments_lexer": "ipython3",
   "version": "3.6.9"
  }
 },
 "nbformat": 4,
 "nbformat_minor": 2
}
